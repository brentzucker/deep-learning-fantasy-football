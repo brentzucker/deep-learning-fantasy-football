{
 "cells": [
  {
   "cell_type": "code",
   "execution_count": 31,
   "metadata": {
    "collapsed": true
   },
   "outputs": [],
   "source": [
    "import nflgame\n",
    "import pandas as pd\n",
    "import numpy as np"
   ]
  },
  {
   "cell_type": "markdown",
   "metadata": {},
   "source": [
    "# Defensive Stats Dataframe"
   ]
  },
  {
   "cell_type": "code",
   "execution_count": 53,
   "metadata": {},
   "outputs": [],
   "source": [
    "teams_map = {}\n",
    "teams = []\n",
    "for team in nflgame.teams:\n",
    "    teams.append(team[0])\n",
    "    for i in range(len(team)):\n",
    "        teams_map[team[i]] = team[0]"
   ]
  },
  {
   "cell_type": "code",
   "execution_count": 57,
   "metadata": {},
   "outputs": [],
   "source": [
    "# Build DataFrame - Index for Player name and week #\n",
    "wks = range(1,18)\n",
    "idxs = [teams, wks]\n",
    "\n",
    "idx = pd.MultiIndex.from_product(idxs, names=['name', 'week'])\n",
    "columns = [\n",
    "    'rushing_att', \n",
    "    'rushing_yds', \n",
    "    'rushing_tds', \n",
    "    'fumbles_tot',\n",
    "    'DNP',\n",
    "    'fantasy_points'\n",
    "]\n",
    "df = pd.DataFrame(data=None, index=idx, columns=columns)"
   ]
  },
  {
   "cell_type": "code",
   "execution_count": 58,
   "metadata": {},
   "outputs": [
    {
     "data": {
      "text/html": [
       "<div>\n",
       "<style>\n",
       "    .dataframe thead tr:only-child th {\n",
       "        text-align: right;\n",
       "    }\n",
       "\n",
       "    .dataframe thead th {\n",
       "        text-align: left;\n",
       "    }\n",
       "\n",
       "    .dataframe tbody tr th {\n",
       "        vertical-align: top;\n",
       "    }\n",
       "</style>\n",
       "<table border=\"1\" class=\"dataframe\">\n",
       "  <thead>\n",
       "    <tr style=\"text-align: right;\">\n",
       "      <th></th>\n",
       "      <th></th>\n",
       "      <th>rushing_att</th>\n",
       "      <th>rushing_yds</th>\n",
       "      <th>rushing_tds</th>\n",
       "      <th>fumbles_tot</th>\n",
       "      <th>DNP</th>\n",
       "      <th>fantasy_points</th>\n",
       "    </tr>\n",
       "    <tr>\n",
       "      <th>name</th>\n",
       "      <th>week</th>\n",
       "      <th></th>\n",
       "      <th></th>\n",
       "      <th></th>\n",
       "      <th></th>\n",
       "      <th></th>\n",
       "      <th></th>\n",
       "    </tr>\n",
       "  </thead>\n",
       "  <tbody>\n",
       "    <tr>\n",
       "      <th rowspan=\"5\" valign=\"top\">ARI</th>\n",
       "      <th>1</th>\n",
       "      <td>NaN</td>\n",
       "      <td>NaN</td>\n",
       "      <td>NaN</td>\n",
       "      <td>NaN</td>\n",
       "      <td>NaN</td>\n",
       "      <td>NaN</td>\n",
       "    </tr>\n",
       "    <tr>\n",
       "      <th>2</th>\n",
       "      <td>NaN</td>\n",
       "      <td>NaN</td>\n",
       "      <td>NaN</td>\n",
       "      <td>NaN</td>\n",
       "      <td>NaN</td>\n",
       "      <td>NaN</td>\n",
       "    </tr>\n",
       "    <tr>\n",
       "      <th>3</th>\n",
       "      <td>NaN</td>\n",
       "      <td>NaN</td>\n",
       "      <td>NaN</td>\n",
       "      <td>NaN</td>\n",
       "      <td>NaN</td>\n",
       "      <td>NaN</td>\n",
       "    </tr>\n",
       "    <tr>\n",
       "      <th>4</th>\n",
       "      <td>NaN</td>\n",
       "      <td>NaN</td>\n",
       "      <td>NaN</td>\n",
       "      <td>NaN</td>\n",
       "      <td>NaN</td>\n",
       "      <td>NaN</td>\n",
       "    </tr>\n",
       "    <tr>\n",
       "      <th>5</th>\n",
       "      <td>NaN</td>\n",
       "      <td>NaN</td>\n",
       "      <td>NaN</td>\n",
       "      <td>NaN</td>\n",
       "      <td>NaN</td>\n",
       "      <td>NaN</td>\n",
       "    </tr>\n",
       "  </tbody>\n",
       "</table>\n",
       "</div>"
      ],
      "text/plain": [
       "          rushing_att rushing_yds rushing_tds fumbles_tot  DNP fantasy_points\n",
       "name week                                                                    \n",
       "ARI  1            NaN         NaN         NaN         NaN  NaN            NaN\n",
       "     2            NaN         NaN         NaN         NaN  NaN            NaN\n",
       "     3            NaN         NaN         NaN         NaN  NaN            NaN\n",
       "     4            NaN         NaN         NaN         NaN  NaN            NaN\n",
       "     5            NaN         NaN         NaN         NaN  NaN            NaN"
      ]
     },
     "execution_count": 58,
     "metadata": {},
     "output_type": "execute_result"
    }
   ],
   "source": [
    "df.head(5)"
   ]
  },
  {
   "cell_type": "markdown",
   "metadata": {},
   "source": [
    "# Get Data"
   ]
  },
  {
   "cell_type": "code",
   "execution_count": 2,
   "metadata": {
    "collapsed": true
   },
   "outputs": [],
   "source": [
    "# NFL Games for 2016\n",
    "games = nflgame.games(2016)"
   ]
  },
  {
   "cell_type": "code",
   "execution_count": 63,
   "metadata": {},
   "outputs": [],
   "source": [
    "for g in games:\n",
    "    wk = g.schedule['week']\n",
    "    rushing_att_h = 0\n",
    "    rushing_yds_h = 0\n",
    "    fumbles_tot_h = 0\n",
    "    rushing_tds_h = 0\n",
    "    \n",
    "    rushing_att_a = 0\n",
    "    rushing_yds_a = 0\n",
    "    fumbles_tot_a = 0\n",
    "    rushing_tds_a = 0\n",
    "    for p in g.players.rushing():\n",
    "        if p.home:\n",
    "            rushing_att_h += p.rushing_att\n",
    "            rushing_yds_h += p.rushing_yds\n",
    "            fumbles_tot_h += p.fumbles_tot\n",
    "            rushing_tds_h += p.rushing_tds\n",
    "        else:\n",
    "            rushing_att_a += p.rushing_att\n",
    "            rushing_yds_a += p.rushing_yds\n",
    "            fumbles_tot_a += p.fumbles_tot\n",
    "            rushing_tds_a += p.rushing_tds\n",
    "    \n",
    "    # Home Defense accumulates Away Offense\n",
    "    df.loc[(g.home, wk), 'rushing_att'] = rushing_att_a\n",
    "    df.loc[(g.home, wk), 'rushing_yds'] = rushing_yds_a\n",
    "    df.loc[(g.home, wk), 'fumbles_tot'] = fumbles_tot_a\n",
    "    df.loc[(g.home, wk), 'rushing_tds'] = rushing_tds_a\n",
    "    \n",
    "    # Away Defense accumulates Home Offense\n",
    "    df.loc[(g.away, wk), 'rushing_att'] = rushing_att_h\n",
    "    df.loc[(g.away, wk), 'rushing_yds'] = rushing_yds_h\n",
    "    df.loc[(g.away, wk), 'fumbles_tot'] = fumbles_tot_h\n",
    "    df.loc[(g.away, wk), 'rushing_tds'] = rushing_tds_h"
   ]
  },
  {
   "cell_type": "code",
   "execution_count": null,
   "metadata": {
    "collapsed": true
   },
   "outputs": [],
   "source": [
    "# Calculate Fantasy Points\n",
    "df['fantasy_points'] = df['rushing_yds'] * .1 + df['rushing_tds'] * 6 - df['fumbles_tot'] * 2"
   ]
  },
  {
   "cell_type": "code",
   "execution_count": null,
   "metadata": {
    "collapsed": true
   },
   "outputs": [],
   "source": [
    "# DNP\n",
    "df.loc[df['fantasy_points'].isnull(), 'DNP'] = True\n",
    "df.loc[df['fantasy_points'].notnull(), 'DNP'] = False\n",
    "\n",
    "# Fill NaNs\n",
    "df = df.fillna(0)\n",
    "\n",
    "# Boolean Values to int\n",
    "df['DNP'] = df['DNP'].astype('int')"
   ]
  },
  {
   "cell_type": "code",
   "execution_count": 64,
   "metadata": {},
   "outputs": [
    {
     "data": {
      "text/html": [
       "<div>\n",
       "<style>\n",
       "    .dataframe thead tr:only-child th {\n",
       "        text-align: right;\n",
       "    }\n",
       "\n",
       "    .dataframe thead th {\n",
       "        text-align: left;\n",
       "    }\n",
       "\n",
       "    .dataframe tbody tr th {\n",
       "        vertical-align: top;\n",
       "    }\n",
       "</style>\n",
       "<table border=\"1\" class=\"dataframe\">\n",
       "  <thead>\n",
       "    <tr style=\"text-align: right;\">\n",
       "      <th></th>\n",
       "      <th></th>\n",
       "      <th>rushing_att</th>\n",
       "      <th>rushing_yds</th>\n",
       "      <th>rushing_tds</th>\n",
       "      <th>fumbles_tot</th>\n",
       "      <th>DNP</th>\n",
       "      <th>fantasy_points</th>\n",
       "    </tr>\n",
       "    <tr>\n",
       "      <th>name</th>\n",
       "      <th>week</th>\n",
       "      <th></th>\n",
       "      <th></th>\n",
       "      <th></th>\n",
       "      <th></th>\n",
       "      <th></th>\n",
       "      <th></th>\n",
       "    </tr>\n",
       "  </thead>\n",
       "  <tbody>\n",
       "    <tr>\n",
       "      <th rowspan=\"5\" valign=\"top\">ARI</th>\n",
       "      <th>1</th>\n",
       "      <td>31</td>\n",
       "      <td>106</td>\n",
       "      <td>1</td>\n",
       "      <td>3</td>\n",
       "      <td>NaN</td>\n",
       "      <td>NaN</td>\n",
       "    </tr>\n",
       "    <tr>\n",
       "      <th>2</th>\n",
       "      <td>21</td>\n",
       "      <td>85</td>\n",
       "      <td>0</td>\n",
       "      <td>1</td>\n",
       "      <td>NaN</td>\n",
       "      <td>NaN</td>\n",
       "    </tr>\n",
       "    <tr>\n",
       "      <th>3</th>\n",
       "      <td>32</td>\n",
       "      <td>208</td>\n",
       "      <td>3</td>\n",
       "      <td>3</td>\n",
       "      <td>NaN</td>\n",
       "      <td>NaN</td>\n",
       "    </tr>\n",
       "    <tr>\n",
       "      <th>4</th>\n",
       "      <td>23</td>\n",
       "      <td>41</td>\n",
       "      <td>0</td>\n",
       "      <td>1</td>\n",
       "      <td>NaN</td>\n",
       "      <td>NaN</td>\n",
       "    </tr>\n",
       "    <tr>\n",
       "      <th>5</th>\n",
       "      <td>36</td>\n",
       "      <td>151</td>\n",
       "      <td>2</td>\n",
       "      <td>0</td>\n",
       "      <td>NaN</td>\n",
       "      <td>NaN</td>\n",
       "    </tr>\n",
       "  </tbody>\n",
       "</table>\n",
       "</div>"
      ],
      "text/plain": [
       "          rushing_att rushing_yds rushing_tds fumbles_tot  DNP fantasy_points\n",
       "name week                                                                    \n",
       "ARI  1             31         106           1           3  NaN            NaN\n",
       "     2             21          85           0           1  NaN            NaN\n",
       "     3             32         208           3           3  NaN            NaN\n",
       "     4             23          41           0           1  NaN            NaN\n",
       "     5             36         151           2           0  NaN            NaN"
      ]
     },
     "execution_count": 64,
     "metadata": {},
     "output_type": "execute_result"
    }
   ],
   "source": [
    "df.head(5)"
   ]
  },
  {
   "cell_type": "code",
   "execution_count": 52,
   "metadata": {},
   "outputs": [
    {
     "data": {
      "text/plain": [
       "{'ARI',\n",
       " 'ATL',\n",
       " 'BAL',\n",
       " 'BUF',\n",
       " 'CAR',\n",
       " 'CHI',\n",
       " 'CIN',\n",
       " 'CLE',\n",
       " 'DAL',\n",
       " 'DEN',\n",
       " 'DET',\n",
       " 'GB',\n",
       " 'HOU',\n",
       " 'IND',\n",
       " 'JAC',\n",
       " 'KC',\n",
       " 'LA',\n",
       " 'MIA',\n",
       " 'MIN',\n",
       " 'NE',\n",
       " 'NO',\n",
       " 'NYG',\n",
       " 'NYJ',\n",
       " 'OAK',\n",
       " 'PHI',\n",
       " 'PIT',\n",
       " 'SD',\n",
       " 'SEA',\n",
       " 'SF',\n",
       " 'STL',\n",
       " 'TB',\n",
       " 'TEN',\n",
       " 'WAS'}"
      ]
     },
     "execution_count": 52,
     "metadata": {},
     "output_type": "execute_result"
    }
   ],
   "source": [
    "set(teams_map.values())"
   ]
  },
  {
   "cell_type": "code",
   "execution_count": null,
   "metadata": {
    "collapsed": true
   },
   "outputs": [],
   "source": []
  }
 ],
 "metadata": {
  "kernelspec": {
   "display_name": "Python 2",
   "language": "python",
   "name": "python2"
  },
  "language_info": {
   "codemirror_mode": {
    "name": "ipython",
    "version": 2
   },
   "file_extension": ".py",
   "mimetype": "text/x-python",
   "name": "python",
   "nbconvert_exporter": "python",
   "pygments_lexer": "ipython2",
   "version": "2.7.14"
  }
 },
 "nbformat": 4,
 "nbformat_minor": 2
}
