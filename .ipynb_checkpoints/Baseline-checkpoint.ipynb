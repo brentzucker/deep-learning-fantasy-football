{
 "cells": [
  {
   "cell_type": "code",
   "execution_count": 206,
   "metadata": {
    "collapsed": true,
    "scrolled": true
   },
   "outputs": [],
   "source": [
    "import nflgame\n",
    "import pandas as pd\n",
    "import numpy as np\n",
    "import math\n",
    "import matplotlib.pyplot as plt\n",
    "from keras.models import Sequential\n",
    "from keras.layers import Dense\n",
    "from keras.layers import LSTM\n",
    "\n",
    "np.random.seed(7)"
   ]
  },
  {
   "cell_type": "markdown",
   "metadata": {},
   "source": [
    "# Get Data"
   ]
  },
  {
   "cell_type": "code",
   "execution_count": 3,
   "metadata": {
    "collapsed": true,
    "scrolled": true
   },
   "outputs": [],
   "source": [
    "# NFL Games for 2016\n",
    "games = nflgame.games(2016)"
   ]
  },
  {
   "cell_type": "code",
   "execution_count": 4,
   "metadata": {
    "collapsed": true,
    "scrolled": true
   },
   "outputs": [],
   "source": [
    "players = nflgame.combine_game_stats(games)"
   ]
  },
  {
   "cell_type": "code",
   "execution_count": 240,
   "metadata": {
    "collapsed": true,
    "scrolled": true
   },
   "outputs": [],
   "source": [
    "# Get the Top 50 players who have the most rushing yards from the 2016 season\n",
    "top50 = []\n",
    "for p in players.rushing().sort('rushing_yds').limit(5):\n",
    "    top50.append(p)"
   ]
  },
  {
   "cell_type": "code",
   "execution_count": 241,
   "metadata": {
    "collapsed": true,
    "scrolled": true
   },
   "outputs": [],
   "source": [
    "# Build DataFrame - Index for Player name and week #\n",
    "top50_names = [str(p.name) for p in top50]\n",
    "wks = range(1,18)\n",
    "idxs = [top50_names, wks]\n",
    "\n",
    "idx = pd.MultiIndex.from_product(idxs, names=['name', 'week'])\n",
    "columns = [\n",
    "    'rushing_att', \n",
    "    'rushing_yds', \n",
    "    'rushing_tds', \n",
    "    'fumbles_tot',\n",
    "    'home',\n",
    "    'DNP',\n",
    "    'fantasy_points'\n",
    "]\n",
    "df = pd.DataFrame(data=None, index=idx, columns=columns)"
   ]
  },
  {
   "cell_type": "code",
   "execution_count": 242,
   "metadata": {
    "scrolled": false
   },
   "outputs": [
    {
     "data": {
      "text/html": [
       "<div>\n",
       "<style>\n",
       "    .dataframe thead tr:only-child th {\n",
       "        text-align: right;\n",
       "    }\n",
       "\n",
       "    .dataframe thead th {\n",
       "        text-align: left;\n",
       "    }\n",
       "\n",
       "    .dataframe tbody tr th {\n",
       "        vertical-align: top;\n",
       "    }\n",
       "</style>\n",
       "<table border=\"1\" class=\"dataframe\">\n",
       "  <thead>\n",
       "    <tr style=\"text-align: right;\">\n",
       "      <th></th>\n",
       "      <th></th>\n",
       "      <th>rushing_att</th>\n",
       "      <th>rushing_yds</th>\n",
       "      <th>rushing_tds</th>\n",
       "      <th>fumbles_tot</th>\n",
       "      <th>home</th>\n",
       "      <th>DNP</th>\n",
       "      <th>fantasy_points</th>\n",
       "    </tr>\n",
       "    <tr>\n",
       "      <th>name</th>\n",
       "      <th>week</th>\n",
       "      <th></th>\n",
       "      <th></th>\n",
       "      <th></th>\n",
       "      <th></th>\n",
       "      <th></th>\n",
       "      <th></th>\n",
       "      <th></th>\n",
       "    </tr>\n",
       "  </thead>\n",
       "  <tbody>\n",
       "    <tr>\n",
       "      <th rowspan=\"5\" valign=\"top\">E.Elliott</th>\n",
       "      <th>1</th>\n",
       "      <td>NaN</td>\n",
       "      <td>NaN</td>\n",
       "      <td>NaN</td>\n",
       "      <td>NaN</td>\n",
       "      <td>NaN</td>\n",
       "      <td>NaN</td>\n",
       "      <td>NaN</td>\n",
       "    </tr>\n",
       "    <tr>\n",
       "      <th>2</th>\n",
       "      <td>NaN</td>\n",
       "      <td>NaN</td>\n",
       "      <td>NaN</td>\n",
       "      <td>NaN</td>\n",
       "      <td>NaN</td>\n",
       "      <td>NaN</td>\n",
       "      <td>NaN</td>\n",
       "    </tr>\n",
       "    <tr>\n",
       "      <th>3</th>\n",
       "      <td>NaN</td>\n",
       "      <td>NaN</td>\n",
       "      <td>NaN</td>\n",
       "      <td>NaN</td>\n",
       "      <td>NaN</td>\n",
       "      <td>NaN</td>\n",
       "      <td>NaN</td>\n",
       "    </tr>\n",
       "    <tr>\n",
       "      <th>4</th>\n",
       "      <td>NaN</td>\n",
       "      <td>NaN</td>\n",
       "      <td>NaN</td>\n",
       "      <td>NaN</td>\n",
       "      <td>NaN</td>\n",
       "      <td>NaN</td>\n",
       "      <td>NaN</td>\n",
       "    </tr>\n",
       "    <tr>\n",
       "      <th>5</th>\n",
       "      <td>NaN</td>\n",
       "      <td>NaN</td>\n",
       "      <td>NaN</td>\n",
       "      <td>NaN</td>\n",
       "      <td>NaN</td>\n",
       "      <td>NaN</td>\n",
       "      <td>NaN</td>\n",
       "    </tr>\n",
       "  </tbody>\n",
       "</table>\n",
       "</div>"
      ],
      "text/plain": [
       "               rushing_att rushing_yds rushing_tds fumbles_tot home  DNP  \\\n",
       "name      week                                                             \n",
       "E.Elliott 1            NaN         NaN         NaN         NaN  NaN  NaN   \n",
       "          2            NaN         NaN         NaN         NaN  NaN  NaN   \n",
       "          3            NaN         NaN         NaN         NaN  NaN  NaN   \n",
       "          4            NaN         NaN         NaN         NaN  NaN  NaN   \n",
       "          5            NaN         NaN         NaN         NaN  NaN  NaN   \n",
       "\n",
       "               fantasy_points  \n",
       "name      week                 \n",
       "E.Elliott 1               NaN  \n",
       "          2               NaN  \n",
       "          3               NaN  \n",
       "          4               NaN  \n",
       "          5               NaN  "
      ]
     },
     "execution_count": 242,
     "metadata": {},
     "output_type": "execute_result"
    }
   ],
   "source": [
    "df.head()"
   ]
  },
  {
   "cell_type": "code",
   "execution_count": 243,
   "metadata": {
    "collapsed": true,
    "scrolled": true
   },
   "outputs": [],
   "source": [
    "# Update DF with stats for Top 50 players for all games\n",
    "for g in games:\n",
    "    wk = g.schedule['week']\n",
    "    for p in g.players.rushing():\n",
    "        \n",
    "        # Check if top50 player\n",
    "        if p.name in df.index:\n",
    "            df.loc[(p.name, wk), 'rushing_att'] = p.rushing_att\n",
    "            df.loc[(p.name, wk), 'rushing_yds'] = p.rushing_yds\n",
    "            df.loc[(p.name, wk), 'rushing_tds'] = p.rushing_tds\n",
    "            df.loc[(p.name, wk), 'fumbles_tot'] = p.fumbles_tot\n",
    "            df.loc[(p.name, wk), 'home'] = p.home"
   ]
  },
  {
   "cell_type": "code",
   "execution_count": 244,
   "metadata": {
    "scrolled": true
   },
   "outputs": [],
   "source": [
    "# DNP\n",
    "df.loc[df['fantasy_points'].isnull(), 'DNP'] = True\n",
    "df.loc[df['fantasy_points'].notnull(), 'DNP'] = False\n",
    "\n",
    "# Fill NaNs\n",
    "df = df.fillna(0)\n",
    "\n",
    "# Boolean Values to int\n",
    "df['home'] = df['home'].astype('int')\n",
    "df['DNP'] = df['DNP'].astype('int')"
   ]
  },
  {
   "cell_type": "code",
   "execution_count": 245,
   "metadata": {
    "collapsed": true,
    "scrolled": true
   },
   "outputs": [],
   "source": [
    "# Calculate Fantasy Points\n",
    "df['fantasy_points'] = df['rushing_yds'] * .1 + df['rushing_tds'] * 6 - df['fumbles_tot'] * 2"
   ]
  },
  {
   "cell_type": "code",
   "execution_count": 246,
   "metadata": {
    "scrolled": true
   },
   "outputs": [
    {
     "data": {
      "text/html": [
       "<div>\n",
       "<style>\n",
       "    .dataframe thead tr:only-child th {\n",
       "        text-align: right;\n",
       "    }\n",
       "\n",
       "    .dataframe thead th {\n",
       "        text-align: left;\n",
       "    }\n",
       "\n",
       "    .dataframe tbody tr th {\n",
       "        vertical-align: top;\n",
       "    }\n",
       "</style>\n",
       "<table border=\"1\" class=\"dataframe\">\n",
       "  <thead>\n",
       "    <tr style=\"text-align: right;\">\n",
       "      <th></th>\n",
       "      <th></th>\n",
       "      <th>rushing_att</th>\n",
       "      <th>rushing_yds</th>\n",
       "      <th>rushing_tds</th>\n",
       "      <th>fumbles_tot</th>\n",
       "      <th>home</th>\n",
       "      <th>DNP</th>\n",
       "      <th>fantasy_points</th>\n",
       "    </tr>\n",
       "    <tr>\n",
       "      <th>name</th>\n",
       "      <th>week</th>\n",
       "      <th></th>\n",
       "      <th></th>\n",
       "      <th></th>\n",
       "      <th></th>\n",
       "      <th></th>\n",
       "      <th></th>\n",
       "      <th></th>\n",
       "    </tr>\n",
       "  </thead>\n",
       "  <tbody>\n",
       "    <tr>\n",
       "      <th rowspan=\"17\" valign=\"top\">E.Elliott</th>\n",
       "      <th>1</th>\n",
       "      <td>20</td>\n",
       "      <td>51</td>\n",
       "      <td>1</td>\n",
       "      <td>0</td>\n",
       "      <td>1</td>\n",
       "      <td>1</td>\n",
       "      <td>11.1</td>\n",
       "    </tr>\n",
       "    <tr>\n",
       "      <th>2</th>\n",
       "      <td>21</td>\n",
       "      <td>83</td>\n",
       "      <td>1</td>\n",
       "      <td>2</td>\n",
       "      <td>0</td>\n",
       "      <td>1</td>\n",
       "      <td>10.3</td>\n",
       "    </tr>\n",
       "    <tr>\n",
       "      <th>3</th>\n",
       "      <td>30</td>\n",
       "      <td>140</td>\n",
       "      <td>0</td>\n",
       "      <td>0</td>\n",
       "      <td>1</td>\n",
       "      <td>1</td>\n",
       "      <td>14.0</td>\n",
       "    </tr>\n",
       "    <tr>\n",
       "      <th>4</th>\n",
       "      <td>23</td>\n",
       "      <td>138</td>\n",
       "      <td>1</td>\n",
       "      <td>0</td>\n",
       "      <td>0</td>\n",
       "      <td>1</td>\n",
       "      <td>19.8</td>\n",
       "    </tr>\n",
       "    <tr>\n",
       "      <th>5</th>\n",
       "      <td>15</td>\n",
       "      <td>134</td>\n",
       "      <td>2</td>\n",
       "      <td>0</td>\n",
       "      <td>1</td>\n",
       "      <td>1</td>\n",
       "      <td>25.4</td>\n",
       "    </tr>\n",
       "    <tr>\n",
       "      <th>6</th>\n",
       "      <td>28</td>\n",
       "      <td>157</td>\n",
       "      <td>0</td>\n",
       "      <td>0</td>\n",
       "      <td>0</td>\n",
       "      <td>1</td>\n",
       "      <td>15.7</td>\n",
       "    </tr>\n",
       "    <tr>\n",
       "      <th>7</th>\n",
       "      <td>0</td>\n",
       "      <td>0</td>\n",
       "      <td>0</td>\n",
       "      <td>0</td>\n",
       "      <td>0</td>\n",
       "      <td>1</td>\n",
       "      <td>0.0</td>\n",
       "    </tr>\n",
       "    <tr>\n",
       "      <th>8</th>\n",
       "      <td>22</td>\n",
       "      <td>96</td>\n",
       "      <td>0</td>\n",
       "      <td>0</td>\n",
       "      <td>1</td>\n",
       "      <td>1</td>\n",
       "      <td>9.6</td>\n",
       "    </tr>\n",
       "    <tr>\n",
       "      <th>9</th>\n",
       "      <td>18</td>\n",
       "      <td>92</td>\n",
       "      <td>2</td>\n",
       "      <td>1</td>\n",
       "      <td>0</td>\n",
       "      <td>1</td>\n",
       "      <td>19.2</td>\n",
       "    </tr>\n",
       "    <tr>\n",
       "      <th>10</th>\n",
       "      <td>21</td>\n",
       "      <td>114</td>\n",
       "      <td>2</td>\n",
       "      <td>0</td>\n",
       "      <td>0</td>\n",
       "      <td>1</td>\n",
       "      <td>23.4</td>\n",
       "    </tr>\n",
       "    <tr>\n",
       "      <th>11</th>\n",
       "      <td>25</td>\n",
       "      <td>97</td>\n",
       "      <td>0</td>\n",
       "      <td>0</td>\n",
       "      <td>1</td>\n",
       "      <td>1</td>\n",
       "      <td>9.7</td>\n",
       "    </tr>\n",
       "    <tr>\n",
       "      <th>12</th>\n",
       "      <td>20</td>\n",
       "      <td>97</td>\n",
       "      <td>2</td>\n",
       "      <td>0</td>\n",
       "      <td>1</td>\n",
       "      <td>1</td>\n",
       "      <td>21.7</td>\n",
       "    </tr>\n",
       "    <tr>\n",
       "      <th>13</th>\n",
       "      <td>20</td>\n",
       "      <td>86</td>\n",
       "      <td>1</td>\n",
       "      <td>1</td>\n",
       "      <td>0</td>\n",
       "      <td>1</td>\n",
       "      <td>12.6</td>\n",
       "    </tr>\n",
       "    <tr>\n",
       "      <th>14</th>\n",
       "      <td>24</td>\n",
       "      <td>107</td>\n",
       "      <td>0</td>\n",
       "      <td>0</td>\n",
       "      <td>0</td>\n",
       "      <td>1</td>\n",
       "      <td>10.7</td>\n",
       "    </tr>\n",
       "    <tr>\n",
       "      <th>15</th>\n",
       "      <td>23</td>\n",
       "      <td>159</td>\n",
       "      <td>1</td>\n",
       "      <td>1</td>\n",
       "      <td>1</td>\n",
       "      <td>1</td>\n",
       "      <td>19.9</td>\n",
       "    </tr>\n",
       "    <tr>\n",
       "      <th>16</th>\n",
       "      <td>12</td>\n",
       "      <td>80</td>\n",
       "      <td>2</td>\n",
       "      <td>0</td>\n",
       "      <td>1</td>\n",
       "      <td>1</td>\n",
       "      <td>20.0</td>\n",
       "    </tr>\n",
       "    <tr>\n",
       "      <th>17</th>\n",
       "      <td>0</td>\n",
       "      <td>0</td>\n",
       "      <td>0</td>\n",
       "      <td>0</td>\n",
       "      <td>0</td>\n",
       "      <td>1</td>\n",
       "      <td>0.0</td>\n",
       "    </tr>\n",
       "  </tbody>\n",
       "</table>\n",
       "</div>"
      ],
      "text/plain": [
       "                rushing_att  rushing_yds  rushing_tds  fumbles_tot  home  DNP  \\\n",
       "name      week                                                                  \n",
       "E.Elliott 1              20           51            1            0     1    1   \n",
       "          2              21           83            1            2     0    1   \n",
       "          3              30          140            0            0     1    1   \n",
       "          4              23          138            1            0     0    1   \n",
       "          5              15          134            2            0     1    1   \n",
       "          6              28          157            0            0     0    1   \n",
       "          7               0            0            0            0     0    1   \n",
       "          8              22           96            0            0     1    1   \n",
       "          9              18           92            2            1     0    1   \n",
       "          10             21          114            2            0     0    1   \n",
       "          11             25           97            0            0     1    1   \n",
       "          12             20           97            2            0     1    1   \n",
       "          13             20           86            1            1     0    1   \n",
       "          14             24          107            0            0     0    1   \n",
       "          15             23          159            1            1     1    1   \n",
       "          16             12           80            2            0     1    1   \n",
       "          17              0            0            0            0     0    1   \n",
       "\n",
       "                fantasy_points  \n",
       "name      week                  \n",
       "E.Elliott 1               11.1  \n",
       "          2               10.3  \n",
       "          3               14.0  \n",
       "          4               19.8  \n",
       "          5               25.4  \n",
       "          6               15.7  \n",
       "          7                0.0  \n",
       "          8                9.6  \n",
       "          9               19.2  \n",
       "          10              23.4  \n",
       "          11               9.7  \n",
       "          12              21.7  \n",
       "          13              12.6  \n",
       "          14              10.7  \n",
       "          15              19.9  \n",
       "          16              20.0  \n",
       "          17               0.0  "
      ]
     },
     "execution_count": 246,
     "metadata": {},
     "output_type": "execute_result"
    }
   ],
   "source": [
    "df"
   ]
  },
  {
   "cell_type": "markdown",
   "metadata": {},
   "source": [
    "# Train Test Split"
   ]
  },
  {
   "cell_type": "code",
   "execution_count": 247,
   "metadata": {
    "collapsed": true,
    "scrolled": true
   },
   "outputs": [],
   "source": [
    "def create_dataset(dataset, games_back=1):\n",
    "    dataX, dataY = [], []\n",
    "    for i in range(len(dataset) - games_back - 1):\n",
    "        a = dataset[i:(i + games_back), :]\n",
    "        dataX.append(a)\n",
    "        \n",
    "        # Last Game's fantasy points\n",
    "        dataY.append(dataset[i + games_back, -1])\n",
    "    return np.array(dataX), np.array(dataY)"
   ]
  },
  {
   "cell_type": "code",
   "execution_count": 248,
   "metadata": {
    "scrolled": true
   },
   "outputs": [],
   "source": [
    "def build_dataset(df, games_back):\n",
    "    X = np.array([])\n",
    "    Y = np.array([])\n",
    "    for player in set(df.index.get_level_values(0)):\n",
    "        data = df.loc[player].values\n",
    "        X_, Y_ = create_dataset(data, games_back=games_back)\n",
    "        if len(X) == 0 and len(Y) == 0:\n",
    "            X = X_\n",
    "            Y = Y_\n",
    "        else:\n",
    "            X = np.append(X, X_, axis=0)\n",
    "            Y = np.append(Y, Y_, axis=0)\n",
    "    return X, Y"
   ]
  },
  {
   "cell_type": "code",
   "execution_count": 258,
   "metadata": {
    "scrolled": true
   },
   "outputs": [],
   "source": [
    "games_back = 3\n",
    "X, Y = build_dataset(df, games_back)"
   ]
  },
  {
   "cell_type": "code",
   "execution_count": 259,
   "metadata": {
    "scrolled": true
   },
   "outputs": [],
   "source": [
    "# Shuffle Data\n",
    "idxs_shuffled = np.random.permutation(len(Y))\n",
    "X_shuffled = X[idxs_shuffled]\n",
    "Y_shuffled = Y[idxs_shuffled]\n",
    "X_shuffled = X\n",
    "Y_shuffled = Y"
   ]
  },
  {
   "cell_type": "code",
   "execution_count": 260,
   "metadata": {
    "collapsed": true,
    "scrolled": true
   },
   "outputs": [],
   "source": [
    "# Train / Test Split\n",
    "split = .67\n",
    "train_sizeX = int(len(X) * split)\n",
    "train_sizeY = int(len(Y) * split)\n",
    "test_sizeX = int(len(X) * (1 - split))\n",
    "test_sizeY = int(len(Y) * (1 - split))\n",
    "\n",
    "trainX = X_shuffled[:train_sizeX]\n",
    "trainY = Y_shuffled[:train_sizeY]\n",
    "testX = X_shuffled[train_sizeX:]\n",
    "testY = Y_shuffled[train_sizeY:]"
   ]
  },
  {
   "cell_type": "code",
   "execution_count": 261,
   "metadata": {},
   "outputs": [
    {
     "data": {
      "text/plain": [
       "array([[[ 20,  51,   1,   0,   1,   1,  11],\n",
       "        [ 21,  83,   1,   2,   0,   1,  10],\n",
       "        [ 30, 140,   0,   0,   1,   1,  14]],\n",
       "\n",
       "       [[ 21,  83,   1,   2,   0,   1,  10],\n",
       "        [ 30, 140,   0,   0,   1,   1,  14],\n",
       "        [ 23, 138,   1,   0,   0,   1,  19]],\n",
       "\n",
       "       [[ 30, 140,   0,   0,   1,   1,  14],\n",
       "        [ 23, 138,   1,   0,   0,   1,  19],\n",
       "        [ 15, 134,   2,   0,   1,   1,  25]],\n",
       "\n",
       "       [[ 23, 138,   1,   0,   0,   1,  19],\n",
       "        [ 15, 134,   2,   0,   1,   1,  25],\n",
       "        [ 28, 157,   0,   0,   0,   1,  15]],\n",
       "\n",
       "       [[ 15, 134,   2,   0,   1,   1,  25],\n",
       "        [ 28, 157,   0,   0,   0,   1,  15],\n",
       "        [  0,   0,   0,   0,   0,   1,   0]],\n",
       "\n",
       "       [[ 28, 157,   0,   0,   0,   1,  15],\n",
       "        [  0,   0,   0,   0,   0,   1,   0],\n",
       "        [ 22,  96,   0,   0,   1,   1,   9]],\n",
       "\n",
       "       [[  0,   0,   0,   0,   0,   1,   0],\n",
       "        [ 22,  96,   0,   0,   1,   1,   9],\n",
       "        [ 18,  92,   2,   1,   0,   1,  19]],\n",
       "\n",
       "       [[ 22,  96,   0,   0,   1,   1,   9],\n",
       "        [ 18,  92,   2,   1,   0,   1,  19],\n",
       "        [ 21, 114,   2,   0,   0,   1,  23]]])"
      ]
     },
     "execution_count": 261,
     "metadata": {},
     "output_type": "execute_result"
    }
   ],
   "source": [
    "trainX.astype(int)"
   ]
  },
  {
   "cell_type": "code",
   "execution_count": 262,
   "metadata": {},
   "outputs": [
    {
     "data": {
      "text/plain": [
       "array([ 19.8,  25.4,  15.7,   0. ,   9.6,  19.2,  23.4,   9.7])"
      ]
     },
     "execution_count": 262,
     "metadata": {},
     "output_type": "execute_result"
    }
   ],
   "source": [
    "trainY"
   ]
  },
  {
   "cell_type": "markdown",
   "metadata": {},
   "source": [
    "# Build Model"
   ]
  },
  {
   "cell_type": "code",
   "execution_count": 263,
   "metadata": {
    "scrolled": true
   },
   "outputs": [
    {
     "name": "stderr",
     "output_type": "stream",
     "text": [
      "/Users/bvz/anaconda2/lib/python2.7/site-packages/ipykernel_launcher.py:3: UserWarning: The `input_dim` and `input_length` arguments in recurrent layers are deprecated. Use `input_shape` instead.\n",
      "  This is separate from the ipykernel package so we can avoid doing imports until\n",
      "/Users/bvz/anaconda2/lib/python2.7/site-packages/ipykernel_launcher.py:3: UserWarning: Update your `LSTM` call to the Keras 2 API: `LSTM(4, input_shape=(None, 7))`\n",
      "  This is separate from the ipykernel package so we can avoid doing imports until\n"
     ]
    }
   ],
   "source": [
    "column_nums = len(df.columns)\n",
    "model = Sequential()\n",
    "model.add(LSTM(4, input_dim=column_nums))\n",
    "model.add(Dense(1))\n",
    "model.compile(loss='mean_squared_error', optimizer='adam')"
   ]
  },
  {
   "cell_type": "markdown",
   "metadata": {},
   "source": [
    "# Train Model"
   ]
  },
  {
   "cell_type": "code",
   "execution_count": 272,
   "metadata": {
    "scrolled": true
   },
   "outputs": [
    {
     "name": "stdout",
     "output_type": "stream",
     "text": [
      "Epoch 1/60\n",
      "0s - loss: 255.6504\n",
      "Epoch 2/60\n",
      "0s - loss: 255.5694\n",
      "Epoch 3/60\n",
      "0s - loss: 255.4883\n",
      "Epoch 4/60\n",
      "0s - loss: 255.4072\n",
      "Epoch 5/60\n",
      "0s - loss: 255.3258\n",
      "Epoch 6/60\n",
      "0s - loss: 255.2445\n",
      "Epoch 7/60\n",
      "0s - loss: 255.1631\n",
      "Epoch 8/60\n",
      "0s - loss: 255.0816\n",
      "Epoch 9/60\n",
      "0s - loss: 255.0001\n",
      "Epoch 10/60\n",
      "0s - loss: 254.9184\n",
      "Epoch 11/60\n",
      "0s - loss: 254.8366\n",
      "Epoch 12/60\n",
      "0s - loss: 254.7548\n",
      "Epoch 13/60\n",
      "0s - loss: 254.6730\n",
      "Epoch 14/60\n",
      "0s - loss: 254.5912\n",
      "Epoch 15/60\n",
      "0s - loss: 254.5093\n",
      "Epoch 16/60\n",
      "0s - loss: 254.4274\n",
      "Epoch 17/60\n",
      "0s - loss: 254.3455\n",
      "Epoch 18/60\n",
      "0s - loss: 254.2635\n",
      "Epoch 19/60\n",
      "0s - loss: 254.1814\n",
      "Epoch 20/60\n",
      "0s - loss: 254.0995\n",
      "Epoch 21/60\n",
      "0s - loss: 254.0173\n",
      "Epoch 22/60\n",
      "0s - loss: 253.9353\n",
      "Epoch 23/60\n",
      "0s - loss: 253.8531\n",
      "Epoch 24/60\n",
      "0s - loss: 253.7709\n",
      "Epoch 25/60\n",
      "0s - loss: 253.6888\n",
      "Epoch 26/60\n",
      "0s - loss: 253.6066\n",
      "Epoch 27/60\n",
      "0s - loss: 253.5244\n",
      "Epoch 28/60\n",
      "0s - loss: 253.4421\n",
      "Epoch 29/60\n",
      "0s - loss: 253.3598\n",
      "Epoch 30/60\n",
      "0s - loss: 253.2775\n",
      "Epoch 31/60\n",
      "0s - loss: 253.1953\n",
      "Epoch 32/60\n",
      "0s - loss: 253.1131\n",
      "Epoch 33/60\n",
      "0s - loss: 253.0308\n",
      "Epoch 34/60\n",
      "0s - loss: 252.9485\n",
      "Epoch 35/60\n",
      "0s - loss: 252.8661\n",
      "Epoch 36/60\n",
      "0s - loss: 252.7839\n",
      "Epoch 37/60\n",
      "0s - loss: 252.7015\n",
      "Epoch 38/60\n",
      "0s - loss: 252.6191\n",
      "Epoch 39/60\n",
      "0s - loss: 252.5367\n",
      "Epoch 40/60\n",
      "0s - loss: 252.4543\n",
      "Epoch 41/60\n",
      "0s - loss: 252.3719\n",
      "Epoch 42/60\n",
      "0s - loss: 252.2895\n",
      "Epoch 43/60\n",
      "0s - loss: 252.2071\n",
      "Epoch 44/60\n",
      "0s - loss: 252.1246\n",
      "Epoch 45/60\n",
      "0s - loss: 252.0421\n",
      "Epoch 46/60\n",
      "0s - loss: 251.9597\n",
      "Epoch 47/60\n",
      "0s - loss: 251.8772\n",
      "Epoch 48/60\n",
      "0s - loss: 251.7947\n",
      "Epoch 49/60\n",
      "0s - loss: 251.7123\n",
      "Epoch 50/60\n",
      "0s - loss: 251.6299\n",
      "Epoch 51/60\n",
      "0s - loss: 251.5474\n",
      "Epoch 52/60\n",
      "0s - loss: 251.4650\n",
      "Epoch 53/60\n",
      "0s - loss: 251.3826\n",
      "Epoch 54/60\n",
      "0s - loss: 251.3000\n",
      "Epoch 55/60\n",
      "0s - loss: 251.2175\n",
      "Epoch 56/60\n",
      "0s - loss: 251.1350\n",
      "Epoch 57/60\n",
      "0s - loss: 251.0524\n",
      "Epoch 58/60\n",
      "0s - loss: 250.9698\n",
      "Epoch 59/60\n",
      "0s - loss: 250.8874\n",
      "Epoch 60/60\n",
      "0s - loss: 250.8048\n"
     ]
    },
    {
     "data": {
      "text/plain": [
       "<keras.callbacks.History at 0x13ae0d090>"
      ]
     },
     "execution_count": 272,
     "metadata": {},
     "output_type": "execute_result"
    }
   ],
   "source": [
    "model.fit(trainX, trainY, nb_epoch=60, batch_size=25, verbose=2)"
   ]
  },
  {
   "cell_type": "markdown",
   "metadata": {},
   "source": [
    "# Analyze Model"
   ]
  },
  {
   "cell_type": "code",
   "execution_count": 265,
   "metadata": {
    "scrolled": true
   },
   "outputs": [
    {
     "data": {
      "text/plain": [
       "16.825130667327855"
      ]
     },
     "execution_count": 265,
     "metadata": {},
     "output_type": "execute_result"
    }
   ],
   "source": [
    "# Train Score\n",
    "trainScore = model.evaluate(trainX, trainY, verbose=0)\n",
    "trainScore = math.sqrt(trainScore)\n",
    "trainScore"
   ]
  },
  {
   "cell_type": "code",
   "execution_count": 266,
   "metadata": {
    "scrolled": true
   },
   "outputs": [
    {
     "data": {
      "text/plain": [
       "17.22927274598289"
      ]
     },
     "execution_count": 266,
     "metadata": {},
     "output_type": "execute_result"
    }
   ],
   "source": [
    "# Test Score\n",
    "testScore = model.evaluate(testX, testY, verbose=0)\n",
    "testScore = math.sqrt(testScore)\n",
    "testScore"
   ]
  },
  {
   "cell_type": "code",
   "execution_count": 267,
   "metadata": {
    "collapsed": true,
    "scrolled": true
   },
   "outputs": [],
   "source": [
    "# Predictions\n",
    "trainPredict = model.predict(trainX)\n",
    "testPredict = model.predict(testX)"
   ]
  },
  {
   "cell_type": "code",
   "execution_count": 268,
   "metadata": {
    "scrolled": true
   },
   "outputs": [],
   "source": [
    "def plotPlayerPredictions(df, games_back=4, model=None, player=''):\n",
    "    X_, Y_ = create_dataset(df.values, games_back=games_back)\n",
    "    \n",
    "    if model:\n",
    "        Y_pred = model.predict(X_)\n",
    "        # Prepend Prediction with 0's for games not predicted\n",
    "        Y = np.insert(Y_pred, 0, values=[0] * games_back)\n",
    "        plt.gca().set_ylim([0,40])\n",
    "        plt.title(player)\n",
    "        plt.plot(df['fantasy_points'].values)\n",
    "        plt.plot(Y)\n",
    "        plt.show()\n",
    "        "
   ]
  },
  {
   "cell_type": "code",
   "execution_count": 269,
   "metadata": {
    "scrolled": false
   },
   "outputs": [
    {
     "data": {
      "image/png": "[encoded data removed]",
      "text/plain": [
       "<matplotlib.figure.Figure at 0x139848d90>"
      ]
     },
     "metadata": {},
     "output_type": "display_data"
    }
   ],
   "source": [
    "for p in top50_names:\n",
    "    plotPlayerPredictions(df.loc[p], games_back=games_back, model=model, player=p)"
   ]
  },
  {
   "cell_type": "code",
   "execution_count": null,
   "metadata": {
    "collapsed": true,
    "scrolled": true
   },
   "outputs": [],
   "source": []
  }
 ],
 "metadata": {
  "kernelspec": {
   "display_name": "Python 2",
   "language": "python",
   "name": "python2"
  }
 },
 "nbformat": 4,
 "nbformat_minor": 2
}
